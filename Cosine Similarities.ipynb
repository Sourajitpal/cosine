{
 "cells": [
  {
   "cell_type": "markdown",
   "id": "d33cd715-9807-41bb-a232-3ab7e7e74cc6",
   "metadata": {},
   "source": [
    "1. Commonly used for text similarity,document clustering and information retrieval."
   ]
  },
  {
   "cell_type": "code",
   "execution_count": 3,
   "id": "9a2dc457-0019-4675-af5d-fbec6eb4c712",
   "metadata": {},
   "outputs": [
    {
     "name": "stdout",
     "output_type": "stream",
     "text": [
      "Sparse Matrix : \n",
      "   (0, 281)\t0.6222180914356057\n",
      "  (0, 628)\t0.7828439478531033\n",
      "  (1, 151)\t0.17257934812683887\n",
      "  (1, 408)\t0.10333640856885755\n",
      "  (1, 353)\t0.17257934812683887\n",
      "  (1, 592)\t0.17257934812683887\n",
      "  (1, 624)\t0.11900569702848533\n",
      "  (1, 49)\t0.1457925225776621\n",
      "  (1, 425)\t0.17257934812683887\n",
      "  (1, 402)\t0.0973792215750591\n",
      "  (1, 379)\t0.15691005966721103\n",
      "  (1, 603)\t0.17257934812683887\n",
      "  (1, 374)\t0.17257934812683887\n",
      "  (1, 527)\t0.15691005966721103\n",
      "  (1, 86)\t0.2915850451553242\n",
      "  (1, 54)\t0.17257934812683887\n",
      "  (1, 421)\t0.15691005966721103\n",
      "  (1, 53)\t0.1301232341180343\n",
      "  (1, 332)\t0.1371690908605355\n",
      "  (1, 268)\t0.1457925225776621\n",
      "  (1, 619)\t0.08170993311543132\n",
      "  (1, 196)\t0.15691005966721103\n",
      "  (1, 609)\t0.15691005966721103\n",
      "  (1, 545)\t0.14399566329920394\n",
      "  (1, 339)\t0.17257934812683887\n",
      "  :\t:\n",
      "  (62, 43)\t0.07227387610632412\n",
      "  (62, 548)\t0.0898128141373748\n",
      "  (62, 216)\t0.08519946999342165\n",
      "  (62, 584)\t0.1703989399868433\n",
      "  (62, 348)\t0.1703989399868433\n",
      "  (62, 606)\t0.09545909104405845\n",
      "  (62, 271)\t0.10273840802447233\n",
      "  (62, 293)\t0.06563518420204453\n",
      "  (62, 260)\t0.10273840802447233\n",
      "  (62, 588)\t0.11206565937495505\n",
      "  (62, 546)\t0.06563518420204453\n",
      "  (62, 195)\t0.07493984894278484\n",
      "  (62, 29)\t0.09545909104405845\n",
      "  (62, 571)\t0.0898128141373748\n",
      "  (62, 318)\t0.08129894309702637\n",
      "  (62, 556)\t0.14726598350576925\n",
      "  (62, 614)\t0.08519946999342165\n",
      "  (62, 398)\t0.21893975230109367\n",
      "  (62, 227)\t0.14987969788556968\n",
      "  (62, 408)\t0.06766053196237096\n",
      "  (62, 619)\t0.2675019200766944\n",
      "  (62, 545)\t0.14142386958329203\n",
      "  (62, 37)\t0.3299890290276814\n",
      "  (62, 73)\t0.0898128141373748\n",
      "  (62, 45)\t0.10700076803067775\n",
      "Dense Matrix with cosine similarity : \n",
      " [[1.         0.         0.         ... 0.         0.         0.        ]\n",
      " [0.         1.         0.         ... 0.         0.09653245 0.17405336]\n",
      " [0.         0.         0.         ... 0.         0.         0.        ]\n",
      " ...\n",
      " [0.         0.         0.         ... 0.         0.         0.        ]\n",
      " [0.         0.09653245 0.         ... 0.         1.         0.24825566]\n",
      " [0.         0.17405336 0.         ... 0.         0.24825566 1.        ]]\n"
     ]
    }
   ],
   "source": [
    "from sklearn.feature_extraction.text import TfidfVectorizer\n",
    "from sklearn.metrics.pairwise import cosine_similarity\n",
    "\n",
    "#documents=[\"I love machine learning\",\"Machine learning is great\", \"I enjoy learning new thing\"]\n",
    "with open('/Users/sourajitpal/Downloads/wwdc202324.txt', 'r') as fh:\n",
    "    documents = [line.strip() for line in fh]\n",
    "\n",
    "vectorizer = TfidfVectorizer()\n",
    "tfidf_matrix = vectorizer.fit_transform(documents)\n",
    "cosine_sim = cosine_similarity(tfidf_matrix)  \n",
    "\n",
    "print(\"Sparse Matrix : \\n\", tfidf_matrix)\n",
    "print(\"Dense Matrix with cosine similarity : \\n\", cosine_sim)"
   ]
  },
  {
   "cell_type": "markdown",
   "id": "8c7b337a-3095-4ac2-a5cf-232a6bd20584",
   "metadata": {},
   "source": [
    "2. Imagine intuitively understanding document similarity through visual representation "
   ]
  },
  {
   "cell_type": "code",
   "execution_count": 2,
   "id": "d4c3ab98-bf28-4a33-8e32-e7d3134f3e18",
   "metadata": {},
   "outputs": [
    {
     "data": {
      "image/png": "[encoded data removed]",
      "text/plain": [
       "<Figure size 640x480 with 2 Axes>"
      ]
     },
     "metadata": {},
     "output_type": "display_data"
    }
   ],
   "source": [
    "import numpy as np\n",
    "import seaborn as sns \n",
    "import matplotlib.pyplot as plt\n",
    "\n",
    "#Example cosine similarity matrix \n",
    "cosine_sim = np.array([\n",
    "    [1.0,0.9,0.8],\n",
    "    [0.9,0.8,0.7],\n",
    "    [0.8,0.9,1.0]\n",
    "])\n",
    "color_maps = ['viridis']\n",
    "\n",
    "#Plotting the heatmap with different color maps\n",
    "for cmap in color_maps:\n",
    "    sns.heatmap(cosine_sim, annot=True, cmap=cmap)\n",
    "    plt.title(f'Cosine Similarity matrix - {cmap}')\n",
    "    plt.show()"
   ]
  },
  {
   "cell_type": "markdown",
   "id": "f39411f4-f36a-47d3-87d2-d2e08957a28d",
   "metadata": {},
   "source": [
    "3. High-dimensional sparse vectors can be computationally expensive.\n",
    "   Highlighting the limitation with BOW:"
   ]
  },
  {
   "cell_type": "code",
   "execution_count": 3,
   "id": "ddda12b8-73d3-4ee7-972c-3e10c5a704d2",
   "metadata": {},
   "outputs": [
    {
     "name": "stdout",
     "output_type": "stream",
     "text": [
      "[[1.         0.         0.         ... 0.         0.         0.        ]\n",
      " [0.         1.         0.         ... 0.         0.29095719 0.40496194]\n",
      " [0.         0.         0.         ... 0.         0.         0.        ]\n",
      " ...\n",
      " [0.         0.         0.         ... 0.         0.         0.        ]\n",
      " [0.         0.29095719 0.         ... 0.         1.         0.3917734 ]\n",
      " [0.         0.40496194 0.         ... 0.         0.3917734  1.        ]]\n"
     ]
    }
   ],
   "source": [
    "from sklearn.feature_extraction.text import CountVectorizer\n",
    "\n",
    "vectorizer = CountVectorizer()\n",
    "bow_matrix = vectorizer.fit_transform(documents)\n",
    "cosine_sim_bow = cosine_similarity(bow_matrix)\n",
    "\n",
    "print(cosine_sim_bow) # Observe difference with TF-IDF results\n"
   ]
  },
  {
   "cell_type": "markdown",
   "id": "c19bd55a-1153-40a8-88d0-7114e5e91720",
   "metadata": {},
   "source": [
    "4. Demonstrating uses in a simple search query"
   ]
  },
  {
   "cell_type": "code",
   "execution_count": 4,
   "id": "801e06f8-310c-47d8-bd09-deda99157ea4",
   "metadata": {},
   "outputs": [
    {
     "name": "stdout",
     "output_type": "stream",
     "text": [
      "[[0.         0.         0.         0.09566329 0.         0.\n",
      "  0.         0.         0.         0.         0.         0.\n",
      "  0.         0.26103392 0.         0.         0.         0.\n",
      "  0.         0.         0.         0.         0.         0.\n",
      "  0.         0.         0.         0.         0.         0.\n",
      "  0.         0.         0.         0.         0.         0.\n",
      "  0.         0.         0.         0.         0.         0.\n",
      "  0.         0.         0.         0.         0.         0.\n",
      "  0.         0.         0.         0.         0.         0.\n",
      "  0.         0.         0.         0.         0.         0.\n",
      "  0.         0.         0.        ]]\n"
     ]
    }
   ],
   "source": [
    "query = ['macbook']\n",
    "query_vec = vectorizer.transform(query)\n",
    "cosine_sim_query = cosine_similarity(query_vec, tfidf_matrix)\n",
    "\n",
    "print (cosine_sim_query) #find documents most similar to the query"
   ]
  },
  {
   "cell_type": "markdown",
   "id": "5804b89f-5c53-479c-b27e-79ae544a8aad",
   "metadata": {},
   "source": [
    "5. Using pre-trained models like Word2Vec or BERT. Using sentence transformer for better semantic similarity:"
   ]
  },
  {
   "cell_type": "code",
   "execution_count": null,
   "id": "8399c93d-69fb-45b4-bcc5-093ba2b6f1a1",
   "metadata": {},
   "outputs": [
    {
     "name": "stdout",
     "output_type": "stream",
     "text": [
      "Requirement already satisfied: sentence-transformers in /opt/anaconda3/lib/python3.11/site-packages (3.0.1)\n",
      "Requirement already satisfied: transformers<5.0.0,>=4.34.0 in /opt/anaconda3/lib/python3.11/site-packages (from sentence-transformers) (4.41.2)\n",
      "Requirement already satisfied: tqdm in /opt/anaconda3/lib/python3.11/site-packages (from sentence-transformers) (4.65.0)\n",
      "Requirement already satisfied: torch>=1.11.0 in /opt/anaconda3/lib/python3.11/site-packages (from sentence-transformers) (2.3.1)\n",
      "Requirement already satisfied: numpy in /opt/anaconda3/lib/python3.11/site-packages (from sentence-transformers) (1.26.4)\n",
      "Requirement already satisfied: scikit-learn in /opt/anaconda3/lib/python3.11/site-packages (from sentence-transformers) (1.2.2)\n",
      "Requirement already satisfied: scipy in /opt/anaconda3/lib/python3.11/site-packages (from sentence-transformers) (1.11.4)\n",
      "Requirement already satisfied: huggingface-hub>=0.15.1 in /opt/anaconda3/lib/python3.11/site-packages (from sentence-transformers) (0.23.4)\n",
      "Requirement already satisfied: Pillow in /opt/anaconda3/lib/python3.11/site-packages (from sentence-transformers) (10.2.0)\n",
      "Requirement already satisfied: filelock in /opt/anaconda3/lib/python3.11/site-packages (from huggingface-hub>=0.15.1->sentence-transformers) (3.13.1)\n",
      "Requirement already satisfied: fsspec>=2023.5.0 in /opt/anaconda3/lib/python3.11/site-packages (from huggingface-hub>=0.15.1->sentence-transformers) (2023.10.0)\n",
      "Requirement already satisfied: packaging>=20.9 in /opt/anaconda3/lib/python3.11/site-packages (from huggingface-hub>=0.15.1->sentence-transformers) (23.1)\n",
      "Requirement already satisfied: pyyaml>=5.1 in /opt/anaconda3/lib/python3.11/site-packages (from huggingface-hub>=0.15.1->sentence-transformers) (6.0.1)\n",
      "Requirement already satisfied: requests in /opt/anaconda3/lib/python3.11/site-packages (from huggingface-hub>=0.15.1->sentence-transformers) (2.31.0)\n",
      "Requirement already satisfied: typing-extensions>=3.7.4.3 in /opt/anaconda3/lib/python3.11/site-packages (from huggingface-hub>=0.15.1->sentence-transformers) (4.9.0)\n",
      "Requirement already satisfied: sympy in /opt/anaconda3/lib/python3.11/site-packages (from torch>=1.11.0->sentence-transformers) (1.12)\n",
      "Requirement already satisfied: networkx in /opt/anaconda3/lib/python3.11/site-packages (from torch>=1.11.0->sentence-transformers) (3.1)\n",
      "Requirement already satisfied: jinja2 in /opt/anaconda3/lib/python3.11/site-packages (from torch>=1.11.0->sentence-transformers) (3.1.3)\n",
      "Requirement already satisfied: regex!=2019.12.17 in /opt/anaconda3/lib/python3.11/site-packages (from transformers<5.0.0,>=4.34.0->sentence-transformers) (2023.10.3)\n",
      "Requirement already satisfied: tokenizers<0.20,>=0.19 in /opt/anaconda3/lib/python3.11/site-packages (from transformers<5.0.0,>=4.34.0->sentence-transformers) (0.19.1)\n",
      "Requirement already satisfied: safetensors>=0.4.1 in /opt/anaconda3/lib/python3.11/site-packages (from transformers<5.0.0,>=4.34.0->sentence-transformers) (0.4.3)\n",
      "Requirement already satisfied: joblib>=1.1.1 in /opt/anaconda3/lib/python3.11/site-packages (from scikit-learn->sentence-transformers) (1.2.0)\n",
      "Requirement already satisfied: threadpoolctl>=2.0.0 in /opt/anaconda3/lib/python3.11/site-packages (from scikit-learn->sentence-transformers) (2.2.0)\n",
      "Requirement already satisfied: MarkupSafe>=2.0 in /opt/anaconda3/lib/python3.11/site-packages (from jinja2->torch>=1.11.0->sentence-transformers) (2.1.3)\n",
      "Requirement already satisfied: charset-normalizer<4,>=2 in /opt/anaconda3/lib/python3.11/site-packages (from requests->huggingface-hub>=0.15.1->sentence-transformers) (2.0.4)\n",
      "Requirement already satisfied: idna<4,>=2.5 in /opt/anaconda3/lib/python3.11/site-packages (from requests->huggingface-hub>=0.15.1->sentence-transformers) (3.4)\n",
      "Requirement already satisfied: urllib3<3,>=1.21.1 in /opt/anaconda3/lib/python3.11/site-packages (from requests->huggingface-hub>=0.15.1->sentence-transformers) (2.0.7)\n",
      "Requirement already satisfied: certifi>=2017.4.17 in /opt/anaconda3/lib/python3.11/site-packages (from requests->huggingface-hub>=0.15.1->sentence-transformers) (2024.2.2)\n",
      "Requirement already satisfied: mpmath>=0.19 in /opt/anaconda3/lib/python3.11/site-packages (from sympy->torch>=1.11.0->sentence-transformers) (1.3.0)\n"
     ]
    },
    {
     "name": "stderr",
     "output_type": "stream",
     "text": [
      "/opt/anaconda3/lib/python3.11/site-packages/sentence_transformers/cross_encoder/CrossEncoder.py:11: TqdmExperimentalWarning: Using `tqdm.autonotebook.tqdm` in notebook mode. Use `tqdm.tqdm` instead to force console mode (e.g. in jupyter console)\n",
      "  from tqdm.autonotebook import tqdm, trange\n",
      "/opt/anaconda3/lib/python3.11/site-packages/huggingface_hub/file_download.py:1132: FutureWarning: `resume_download` is deprecated and will be removed in version 1.0.0. Downloads always resume when possible. If you want to force a new download, use `force_download=True`.\n",
      "  warnings.warn(\n"
     ]
    }
   ],
   "source": [
    "!pip install sentence-transformers\n",
    "\n",
    "from sentence_transformers import SentenceTransformer, util\n",
    "#Sample documents \n",
    "documents = [\"I love machine learning\",\"Machine learning is great\", \"I enjoy learning new thing\"]\n",
    "\n",
    "#Load the pre-trained model \n",
    "model = SentenceTransformer('all-MiniLM-L6-v2')\n",
    "\n",
    "#Encode the document as embeddings \n",
    "embeddings = model.encode(documents, convert_to_tensor=True)\n",
    "\n",
    "#Compute cosine similarity between the embeddings \n",
    "cosine_sim_embeddings = util.pytorch_cos_sim(embeddings, embeddings)\n",
    "\n",
    "print(cosine_sim_embeddings)"
   ]
  },
  {
   "cell_type": "markdown",
   "id": "5d916c0c-d515-4c93-af14-7a8b5607801e",
   "metadata": {},
   "source": [
    "6. Apply cosine similarity in 1. preprocessing, 2. vectorization, 3. similarity computation, for larger NLP pipelines. Example: Search Engine, recommendation systems and clustering."
   ]
  },
  {
   "cell_type": "code",
   "execution_count": 1,
   "id": "db5d15d4-f30b-42df-882d-e1d20680b680",
   "metadata": {},
   "outputs": [
    {
     "name": "stdout",
     "output_type": "stream",
     "text": [
      "[[1.         0.39038344 0.13730861]\n",
      " [0.39038344 1.         0.11141304]\n",
      " [0.13730861 0.11141304 1.        ]]\n",
      "[[0.69362794 0.56281389 0.19795715]]\n"
     ]
    }
   ],
   "source": [
    "# Step 1 : Preprocess text\n",
    "documents=[\"I love machine learning\",\"Machine learning is great\", \"I enjoy learning new thing\"]\n",
    "\n",
    "# Step 2 : Vectorize text using TF-IDF\n",
    "from sklearn.feature_extraction.text import TfidfVectorizer\n",
    "vectorizer = TfidfVectorizer()\n",
    "tfidf_matrix=vectorizer.fit_transform(documents)\n",
    "\n",
    "# Step 3 : Compute Cosine Similarity\n",
    "from sklearn.metrics.pairwise import cosine_similarity\n",
    "cosine_sim = cosine_similarity(tfidf_matrix)\n",
    "\n",
    "# Step 4 : Using results for further processing (example: information retrieval)\n",
    "query = [\"machine learning\"]\n",
    "query_vec = vectorizer.transform(query)\n",
    "cosine_sim_query = cosine_similarity(query_vec, tfidf_matrix)\n",
    "\n",
    "print(cosine_sim)\n",
    "print(cosine_sim_query)"
   ]
  }
 ],
 "metadata": {
  "kernelspec": {
   "display_name": "Python 3 (ipykernel)",
   "language": "python",
   "name": "python3"
  },
  "language_info": {
   "codemirror_mode": {
    "name": "ipython",
    "version": 3
   },
   "file_extension": ".py",
   "mimetype": "text/x-python",
   "name": "python",
   "nbconvert_exporter": "python",
   "pygments_lexer": "ipython3",
   "version": "3.11.7"
  }
 },
 "nbformat": 4,
 "nbformat_minor": 5
}
